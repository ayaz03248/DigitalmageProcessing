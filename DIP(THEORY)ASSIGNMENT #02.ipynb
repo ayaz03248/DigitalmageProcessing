{
 "cells": [
  {
   "cell_type": "code",
   "execution_count": 3,
   "metadata": {
    "collapsed": true
   },
   "outputs": [],
   "source": [
    "import math"
   ]
  },
  {
   "cell_type": "code",
   "execution_count": 4,
   "metadata": {
    "collapsed": false
   },
   "outputs": [
    {
     "name": "stdout",
     "output_type": "stream",
     "text": [
      "RGB TO HSI COLOR CONVERSION...\n",
      "===============================\n",
      "\n",
      "Enter RGB Values\n",
      "\n",
      "R: 75\n",
      "G: 155\n",
      "B: 205\n",
      "After Conversion InTo HSI\n",
      "*************************\n",
      "\n",
      "H : 357.2495515235465\n",
      "S : 74.48275862068965\n",
      "I : 145.0\n"
     ]
    }
   ],
   "source": [
    "#RGB TO HSI Color Code Conversion\n",
    "\n",
    "def RGB_TO_HSI(R,G,B):\n",
    "    \n",
    "    Thita = math.acos(0.5*((R-G)+(R-B))/(((R-G)**2)+(R-B)*(G-B))**0.5)\n",
    "    S= (1-3/(R+G+B))*min(R,G,B)\n",
    "    I = 1/3 * (R+G+B)\n",
    "    if(B<=G):\n",
    "        H = Thita\n",
    "    \n",
    "    else:\n",
    "        H = 360 - Thita\n",
    "         \n",
    "    print(\"After Conversion InTo HSI\")\n",
    "    print(\"*************************\\n\")\n",
    "\n",
    "    print(\"H :\",H)\n",
    "    print(\"S :\",S)\n",
    "    print(\"I :\",I)\n",
    "\n",
    "print(\"RGB TO HSI COLOR CONVERSION...\")\n",
    "print(\"===============================\\n\")\n",
    "print(\"Enter RGB Values\\n\")\n",
    "r = int(input(\"R: \"))\n",
    "g = int(input(\"G: \"))\n",
    "b = int(input(\"B: \"))\n",
    "RGB_TO_HSI(r,g,b)"
   ]
  },
  {
   "cell_type": "code",
   "execution_count": 5,
   "metadata": {
    "collapsed": false
   },
   "outputs": [
    {
     "name": "stdout",
     "output_type": "stream",
     "text": [
      "HSI TO RGB COLOR CONVERSION...\n",
      "===============================\n",
      "\n",
      "Enter HSI Values\n",
      "\n",
      "H: 250\n",
      "S: 30\n",
      "I: 190\n",
      "After Conversion InTo RGB\n",
      "*************************\n",
      "\n",
      "R : 364.6517198337124\n",
      "G : -5510\n",
      "B : 5146.348280166288\n"
     ]
    }
   ],
   "source": [
    "#HSI TO RGB Color Code Conversion\n",
    "import math\n",
    "def HSI_TO_RGB(H,S,I):\n",
    "    \n",
    "    if(H>=0 and H<120):\n",
    "        R = I*(1+((S*math.cos(H))/math.cos(60-H)))\n",
    "        B = I*(1-S)\n",
    "        G = 1 - (R+B)\n",
    "    elif(H>=120 and H < 240):\n",
    "        H = H - 120\n",
    "        R = I*(1-S)\n",
    "        G = I *(1+(S*math.cos(H))/math.cos(60-H))\n",
    "        B = 1 - (R+G)\n",
    "    elif(H>=240 and H<360):\n",
    "        H = H - 240\n",
    "        G = I * (1-S)\n",
    "        B = I * (1 -((S*math.cos(H))/math.cos(60-H)))\n",
    "        R = 1 - (G+B)\n",
    "    else:\n",
    "        print(\"Wrong inputs\")\n",
    "         \n",
    "    print(\"After Conversion InTo RGB\")\n",
    "    print(\"*************************\\n\")\n",
    "    \n",
    "    print(\"R :\",R)\n",
    "    print(\"G :\",G)\n",
    "    print(\"B :\",B)\n",
    "\n",
    "print(\"HSI TO RGB COLOR CONVERSION...\")\n",
    "print(\"===============================\\n\")\n",
    "print(\"Enter HSI Values\\n\")\n",
    "h = int(input(\"H: \"))\n",
    "s = int(input(\"S: \"))\n",
    "i = int(input(\"I: \"))\n",
    "HSI_TO_RGB(h,s,i)"
   ]
  },
  {
   "cell_type": "code",
   "execution_count": null,
   "metadata": {
    "collapsed": false
   },
   "outputs": [
    {
     "name": "stdout",
     "output_type": "stream",
     "text": [
      "RGB TO CMYK COLOR CONVERSION...\n",
      "===============================\n",
      "\n",
      "Enter RGB Values\n",
      "\n"
     ]
    }
   ],
   "source": [
    "#RGB TO CMYK Color Code Conversion\n",
    "def RGB_TO_CMYK(R,G,B):\n",
    "    \n",
    "    C = 1 - (R/255)\n",
    "    Y = 1 - (G/255)\n",
    "    M = 1 - (B/255)\n",
    "    K = 1 - max(R,G,B)\n",
    " \n",
    "    print(\"After Conversion InTo CMYK\")\n",
    "    print(\"*************************\\n\")\n",
    "\n",
    "    print(\"C :\",C)\n",
    "    print(\"M :\",M)\n",
    "    print(\"Y :\",Y)\n",
    "    print(\"K :\",K)\n",
    "\n",
    "print(\"RGB TO CMYK COLOR CONVERSION...\")\n",
    "print(\"===============================\\n\")\n",
    "print(\"Enter RGB Values\\n\")\n",
    "r = int(input(\"R: \"))\n",
    "g = int(input(\"G: \"))\n",
    "b = int(input(\"B: \"))\n",
    "RGB_TO_CMYK(r,g,b)"
   ]
  },
  {
   "cell_type": "code",
   "execution_count": 5,
   "metadata": {
    "collapsed": false
   },
   "outputs": [
    {
     "name": "stdout",
     "output_type": "stream",
     "text": [
      "CMYK TO RGB COLOR CONVERSION...\n",
      "===============================\n",
      "\n",
      "Enter CMYK Values\n",
      "\n",
      "C: 119\n",
      "M: 220\n",
      "Y: 160\n",
      "K: 30\n",
      "After Conversion InTO RGB\n",
      "*************************\n",
      "\n",
      "R : 872610\n",
      "G : 1619505\n",
      "B : 1175805\n"
     ]
    }
   ],
   "source": [
    "#CMYK TO RGB Color Code Conversion\n",
    "def CMYK_TO_RGB(C,M,Y,K):\n",
    "    \n",
    "    R = 255 * (1-C) * (1-K)\n",
    "    G = 255 * (1-M) * (1-K)\n",
    "    B = 255 * (1-Y) * (1-K)\n",
    " \n",
    "    print(\"After Conversion InTO RGB\")\n",
    "    print(\"*************************\\n\")\n",
    "\n",
    "    print(\"R :\",R)\n",
    "    print(\"G :\",G)\n",
    "    print(\"B :\",B)\n",
    "    \n",
    "print(\"CMYK TO RGB COLOR CONVERSION...\")\n",
    "print(\"===============================\\n\")\n",
    "print(\"Enter CMYK Values\\n\")\n",
    "c = int(input(\"C: \"))\n",
    "m = int(input(\"M: \"))\n",
    "y = int(input(\"Y: \"))\n",
    "k = int(input(\"K: \"))\n",
    "\n",
    "CMYK_TO_RGB(c,m,y,k)"
   ]
  },
  {
   "cell_type": "code",
   "execution_count": null,
   "metadata": {
    "collapsed": true
   },
   "outputs": [],
   "source": []
  }
 ],
 "metadata": {
  "kernelspec": {
   "display_name": "Python [Anaconda3]",
   "language": "python",
   "name": "Python [Anaconda3]"
  },
  "language_info": {
   "codemirror_mode": {
    "name": "ipython",
    "version": 3
   },
   "file_extension": ".py",
   "mimetype": "text/x-python",
   "name": "python",
   "nbconvert_exporter": "python",
   "pygments_lexer": "ipython3",
   "version": "3.5.2"
  }
 },
 "nbformat": 4,
 "nbformat_minor": 0
}
